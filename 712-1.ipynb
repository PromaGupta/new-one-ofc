{
 "cells": [
  {
   "cell_type": "code",
   "execution_count": 2,
   "id": "72d57af4",
   "metadata": {},
   "outputs": [],
   "source": [
    "import pandas as pd\n",
    "import numpy as np\n",
    "from scipy.optimize import minimize\n",
    "import matplotlib.pyplot as plt\n",
    "%matplotlib inline"
   ]
  },
  {
   "cell_type": "code",
   "execution_count": 3,
   "id": "cf4ec0ca",
   "metadata": {},
   "outputs": [],
   "source": [
    "df = pd.read_csv('Diff-stock.csv')"
   ]
  },
  {
   "cell_type": "markdown",
   "id": "31a6648d",
   "metadata": {},
   "source": [
    "Here I am impporting the variables which currently I am working on. Here I am trying to find out that for example, this is a portfolio of Govt which includes share market, Fed Balance Sheet, Federal Funds rate and the Loss Function and I amhere trying to find out that on which variable Govt. should give more focus as well as more weight in the time of taking decision."
   ]
  },
  {
   "cell_type": "markdown",
   "id": "34b40643",
   "metadata": {},
   "source": [
    "Here, the datasets are twice differenced to ensure stationarity."
   ]
  },
  {
   "cell_type": "code",
   "execution_count": 4,
   "id": "b66480c4",
   "metadata": {},
   "outputs": [
    {
     "data": {
      "text/html": [
       "<div>\n",
       "<style scoped>\n",
       "    .dataframe tbody tr th:only-of-type {\n",
       "        vertical-align: middle;\n",
       "    }\n",
       "\n",
       "    .dataframe tbody tr th {\n",
       "        vertical-align: top;\n",
       "    }\n",
       "\n",
       "    .dataframe thead th {\n",
       "        text-align: right;\n",
       "    }\n",
       "</style>\n",
       "<table border=\"1\" class=\"dataframe\">\n",
       "  <thead>\n",
       "    <tr style=\"text-align: right;\">\n",
       "      <th></th>\n",
       "      <th>DATE</th>\n",
       "      <th>S&amp;P 500</th>\n",
       "      <th>TA</th>\n",
       "      <th>CC</th>\n",
       "      <th>FFR</th>\n",
       "      <th>LF</th>\n",
       "    </tr>\n",
       "  </thead>\n",
       "  <tbody>\n",
       "    <tr>\n",
       "      <th>0</th>\n",
       "      <td>2010-03</td>\n",
       "      <td>0.029018</td>\n",
       "      <td>0.008611</td>\n",
       "      <td>-0.000738</td>\n",
       "      <td>0.021659</td>\n",
       "      <td>-1.133584</td>\n",
       "    </tr>\n",
       "    <tr>\n",
       "      <th>1</th>\n",
       "      <td>2010-04</td>\n",
       "      <td>-0.042481</td>\n",
       "      <td>-0.000267</td>\n",
       "      <td>-0.003030</td>\n",
       "      <td>-0.004270</td>\n",
       "      <td>1.019559</td>\n",
       "    </tr>\n",
       "    <tr>\n",
       "      <th>2</th>\n",
       "      <td>2010-05</td>\n",
       "      <td>-0.100183</td>\n",
       "      <td>-0.009751</td>\n",
       "      <td>-0.000112</td>\n",
       "      <td>-0.031505</td>\n",
       "      <td>3.585353</td>\n",
       "    </tr>\n",
       "    <tr>\n",
       "      <th>3</th>\n",
       "      <td>2010-06</td>\n",
       "      <td>0.030143</td>\n",
       "      <td>-0.003164</td>\n",
       "      <td>0.001554</td>\n",
       "      <td>-0.026290</td>\n",
       "      <td>-1.340778</td>\n",
       "    </tr>\n",
       "    <tr>\n",
       "      <th>4</th>\n",
       "      <td>2010-07</td>\n",
       "      <td>0.121904</td>\n",
       "      <td>-0.002388</td>\n",
       "      <td>-0.000532</td>\n",
       "      <td>0.029892</td>\n",
       "      <td>-2.219644</td>\n",
       "    </tr>\n",
       "    <tr>\n",
       "      <th>...</th>\n",
       "      <td>...</td>\n",
       "      <td>...</td>\n",
       "      <td>...</td>\n",
       "      <td>...</td>\n",
       "      <td>...</td>\n",
       "      <td>...</td>\n",
       "    </tr>\n",
       "    <tr>\n",
       "      <th>113</th>\n",
       "      <td>2019-08</td>\n",
       "      <td>-0.031300</td>\n",
       "      <td>0.001927</td>\n",
       "      <td>-0.003976</td>\n",
       "      <td>-0.302333</td>\n",
       "      <td>0.109370</td>\n",
       "    </tr>\n",
       "    <tr>\n",
       "      <th>114</th>\n",
       "      <td>2019-09</td>\n",
       "      <td>0.035198</td>\n",
       "      <td>0.017413</td>\n",
       "      <td>0.006447</td>\n",
       "      <td>0.194290</td>\n",
       "      <td>0.050563</td>\n",
       "    </tr>\n",
       "    <tr>\n",
       "      <th>115</th>\n",
       "      <td>2019-10</td>\n",
       "      <td>0.003379</td>\n",
       "      <td>0.032283</td>\n",
       "      <td>-0.003852</td>\n",
       "      <td>-0.130516</td>\n",
       "      <td>-0.187102</td>\n",
       "    </tr>\n",
       "    <tr>\n",
       "      <th>116</th>\n",
       "      <td>2019-11</td>\n",
       "      <td>0.013160</td>\n",
       "      <td>-0.023511</td>\n",
       "      <td>0.005203</td>\n",
       "      <td>-0.063022</td>\n",
       "      <td>-0.018272</td>\n",
       "    </tr>\n",
       "    <tr>\n",
       "      <th>117</th>\n",
       "      <td>2019-12</td>\n",
       "      <td>-0.005292</td>\n",
       "      <td>-0.000105</td>\n",
       "      <td>-0.004229</td>\n",
       "      <td>0.273978</td>\n",
       "      <td>0.161478</td>\n",
       "    </tr>\n",
       "  </tbody>\n",
       "</table>\n",
       "<p>118 rows × 6 columns</p>\n",
       "</div>"
      ],
      "text/plain": [
       "        DATE   S&P 500        TA        CC       FFR        LF\n",
       "0    2010-03  0.029018  0.008611 -0.000738  0.021659 -1.133584\n",
       "1    2010-04 -0.042481 -0.000267 -0.003030 -0.004270  1.019559\n",
       "2    2010-05 -0.100183 -0.009751 -0.000112 -0.031505  3.585353\n",
       "3    2010-06  0.030143 -0.003164  0.001554 -0.026290 -1.340778\n",
       "4    2010-07  0.121904 -0.002388 -0.000532  0.029892 -2.219644\n",
       "..       ...       ...       ...       ...       ...       ...\n",
       "113  2019-08 -0.031300  0.001927 -0.003976 -0.302333  0.109370\n",
       "114  2019-09  0.035198  0.017413  0.006447  0.194290  0.050563\n",
       "115  2019-10  0.003379  0.032283 -0.003852 -0.130516 -0.187102\n",
       "116  2019-11  0.013160 -0.023511  0.005203 -0.063022 -0.018272\n",
       "117  2019-12 -0.005292 -0.000105 -0.004229  0.273978  0.161478\n",
       "\n",
       "[118 rows x 6 columns]"
      ]
     },
     "execution_count": 4,
     "metadata": {},
     "output_type": "execute_result"
    }
   ],
   "source": [
    "df"
   ]
  },
  {
   "cell_type": "code",
   "execution_count": 5,
   "id": "4df80009",
   "metadata": {},
   "outputs": [
    {
     "data": {
      "text/html": [
       "<div>\n",
       "<style scoped>\n",
       "    .dataframe tbody tr th:only-of-type {\n",
       "        vertical-align: middle;\n",
       "    }\n",
       "\n",
       "    .dataframe tbody tr th {\n",
       "        vertical-align: top;\n",
       "    }\n",
       "\n",
       "    .dataframe thead th {\n",
       "        text-align: right;\n",
       "    }\n",
       "</style>\n",
       "<table border=\"1\" class=\"dataframe\">\n",
       "  <thead>\n",
       "    <tr style=\"text-align: right;\">\n",
       "      <th></th>\n",
       "      <th>S&amp;P 500</th>\n",
       "      <th>TA</th>\n",
       "      <th>CC</th>\n",
       "      <th>FFR</th>\n",
       "      <th>LF</th>\n",
       "    </tr>\n",
       "    <tr>\n",
       "      <th>DATE</th>\n",
       "      <th></th>\n",
       "      <th></th>\n",
       "      <th></th>\n",
       "      <th></th>\n",
       "      <th></th>\n",
       "    </tr>\n",
       "  </thead>\n",
       "  <tbody>\n",
       "    <tr>\n",
       "      <th>2010-03</th>\n",
       "      <td>0.029018</td>\n",
       "      <td>0.008611</td>\n",
       "      <td>-0.000738</td>\n",
       "      <td>0.021659</td>\n",
       "      <td>-1.133584</td>\n",
       "    </tr>\n",
       "    <tr>\n",
       "      <th>2010-04</th>\n",
       "      <td>-0.042481</td>\n",
       "      <td>-0.000267</td>\n",
       "      <td>-0.003030</td>\n",
       "      <td>-0.004270</td>\n",
       "      <td>1.019559</td>\n",
       "    </tr>\n",
       "    <tr>\n",
       "      <th>2010-05</th>\n",
       "      <td>-0.100183</td>\n",
       "      <td>-0.009751</td>\n",
       "      <td>-0.000112</td>\n",
       "      <td>-0.031505</td>\n",
       "      <td>3.585353</td>\n",
       "    </tr>\n",
       "    <tr>\n",
       "      <th>2010-06</th>\n",
       "      <td>0.030143</td>\n",
       "      <td>-0.003164</td>\n",
       "      <td>0.001554</td>\n",
       "      <td>-0.026290</td>\n",
       "      <td>-1.340778</td>\n",
       "    </tr>\n",
       "    <tr>\n",
       "      <th>2010-07</th>\n",
       "      <td>0.121904</td>\n",
       "      <td>-0.002388</td>\n",
       "      <td>-0.000532</td>\n",
       "      <td>0.029892</td>\n",
       "      <td>-2.219644</td>\n",
       "    </tr>\n",
       "    <tr>\n",
       "      <th>...</th>\n",
       "      <td>...</td>\n",
       "      <td>...</td>\n",
       "      <td>...</td>\n",
       "      <td>...</td>\n",
       "      <td>...</td>\n",
       "    </tr>\n",
       "    <tr>\n",
       "      <th>2019-08</th>\n",
       "      <td>-0.031300</td>\n",
       "      <td>0.001927</td>\n",
       "      <td>-0.003976</td>\n",
       "      <td>-0.302333</td>\n",
       "      <td>0.109370</td>\n",
       "    </tr>\n",
       "    <tr>\n",
       "      <th>2019-09</th>\n",
       "      <td>0.035198</td>\n",
       "      <td>0.017413</td>\n",
       "      <td>0.006447</td>\n",
       "      <td>0.194290</td>\n",
       "      <td>0.050563</td>\n",
       "    </tr>\n",
       "    <tr>\n",
       "      <th>2019-10</th>\n",
       "      <td>0.003379</td>\n",
       "      <td>0.032283</td>\n",
       "      <td>-0.003852</td>\n",
       "      <td>-0.130516</td>\n",
       "      <td>-0.187102</td>\n",
       "    </tr>\n",
       "    <tr>\n",
       "      <th>2019-11</th>\n",
       "      <td>0.013160</td>\n",
       "      <td>-0.023511</td>\n",
       "      <td>0.005203</td>\n",
       "      <td>-0.063022</td>\n",
       "      <td>-0.018272</td>\n",
       "    </tr>\n",
       "    <tr>\n",
       "      <th>2019-12</th>\n",
       "      <td>-0.005292</td>\n",
       "      <td>-0.000105</td>\n",
       "      <td>-0.004229</td>\n",
       "      <td>0.273978</td>\n",
       "      <td>0.161478</td>\n",
       "    </tr>\n",
       "  </tbody>\n",
       "</table>\n",
       "<p>118 rows × 5 columns</p>\n",
       "</div>"
      ],
      "text/plain": [
       "          S&P 500        TA        CC       FFR        LF\n",
       "DATE                                                     \n",
       "2010-03  0.029018  0.008611 -0.000738  0.021659 -1.133584\n",
       "2010-04 -0.042481 -0.000267 -0.003030 -0.004270  1.019559\n",
       "2010-05 -0.100183 -0.009751 -0.000112 -0.031505  3.585353\n",
       "2010-06  0.030143 -0.003164  0.001554 -0.026290 -1.340778\n",
       "2010-07  0.121904 -0.002388 -0.000532  0.029892 -2.219644\n",
       "...           ...       ...       ...       ...       ...\n",
       "2019-08 -0.031300  0.001927 -0.003976 -0.302333  0.109370\n",
       "2019-09  0.035198  0.017413  0.006447  0.194290  0.050563\n",
       "2019-10  0.003379  0.032283 -0.003852 -0.130516 -0.187102\n",
       "2019-11  0.013160 -0.023511  0.005203 -0.063022 -0.018272\n",
       "2019-12 -0.005292 -0.000105 -0.004229  0.273978  0.161478\n",
       "\n",
       "[118 rows x 5 columns]"
      ]
     },
     "execution_count": 5,
     "metadata": {},
     "output_type": "execute_result"
    }
   ],
   "source": [
    "df = df.set_index('DATE')\n",
    "df"
   ]
  },
  {
   "cell_type": "markdown",
   "id": "6fcfeeff",
   "metadata": {},
   "source": [
    "The below I am going to calculate the mean of the variables:"
   ]
  },
  {
   "cell_type": "code",
   "execution_count": 6,
   "id": "9a9c16bd",
   "metadata": {},
   "outputs": [
    {
     "data": {
      "text/plain": [
       "S&P 500    6.270932e-07\n",
       "TA         1.111607e-04\n",
       "CC        -1.379178e-05\n",
       "FFR       -1.592726e-04\n",
       "LF         4.267676e-04\n",
       "dtype: float64"
      ]
     },
     "execution_count": 6,
     "metadata": {},
     "output_type": "execute_result"
    }
   ],
   "source": [
    "df.mean()"
   ]
  },
  {
   "cell_type": "code",
   "execution_count": 21,
   "id": "40915794",
   "metadata": {},
   "outputs": [
    {
     "data": {
      "text/plain": [
       "7.309820338982404e-05"
      ]
     },
     "execution_count": 21,
     "metadata": {},
     "output_type": "execute_result"
    }
   ],
   "source": [
    "df.mean().mean()"
   ]
  },
  {
   "cell_type": "code",
   "execution_count": 22,
   "id": "330d3bf8",
   "metadata": {},
   "outputs": [],
   "source": [
    "returns = df"
   ]
  },
  {
   "cell_type": "markdown",
   "id": "b0a349b2",
   "metadata": {},
   "source": [
    "Now, I will calculate the weight of the variable with the below automated code:"
   ]
  },
  {
   "cell_type": "code",
   "execution_count": 23,
   "id": "6ae9ffda",
   "metadata": {},
   "outputs": [
    {
     "data": {
      "text/plain": [
       "     fun: 6.857209166780858e-05\n",
       "     jac: array([3.76944849e-04, 1.03787687e-04, 7.98662586e-06, 5.89357576e-04,\n",
       "       3.01438127e-03])\n",
       " message: 'Optimization terminated successfully'\n",
       "    nfev: 48\n",
       "     nit: 8\n",
       "    njev: 8\n",
       "  status: 0\n",
       " success: True\n",
       "       x: array([4.81545060e-02, 8.15308785e-01, 7.92873439e-02, 5.72493651e-02,\n",
       "       3.46944695e-18])"
      ]
     },
     "execution_count": 23,
     "metadata": {},
     "output_type": "execute_result"
    }
   ],
   "source": [
    "# the objective function is to minimize the portfolio risk\n",
    "def objective(weights): \n",
    "    weights = np.array(weights)\n",
    "    return weights.dot(returns.cov()).dot(weights.T)\n",
    "# The constraints\n",
    "cons = (# The weights must sum up to one.\n",
    "        {\"type\":\"eq\", \"fun\": lambda x: np.sum(x)-1}, \n",
    "        # This constraints says that the inequalities (ineq) must be non-negative.\n",
    "        # The expected daily return of our portfolio and we want to be at greater than 0.002352\n",
    "        {\"type\": \"ineq\", \"fun\": lambda x: np.sum(returns.mean()*x)-0.00008})\n",
    "# Every stock can get any weight from 0 to 1\n",
    "bounds = tuple((0,1) for x in range(returns.shape[1]))\n",
    "# Initialize the weights with an even split\n",
    "# In out case each stock will have 10% at the beginning\n",
    "guess = [1./returns.shape[1] for x in range(returns.shape[1])]\n",
    "optimized_results = minimize(objective, guess, method = \"SLSQP\", bounds=bounds, constraints=cons)\n",
    "optimized_results"
   ]
  },
  {
   "cell_type": "markdown",
   "id": "7da71269",
   "metadata": {},
   "source": [
    "The optimum weights are the array x and we can retrieve them as follows:"
   ]
  },
  {
   "cell_type": "code",
   "execution_count": 24,
   "id": "00d14421",
   "metadata": {},
   "outputs": [
    {
     "data": {
      "text/plain": [
       "array([4.81545060e-02, 8.15308785e-01, 7.92873439e-02, 5.72493651e-02,\n",
       "       3.46944695e-18])"
      ]
     },
     "execution_count": 24,
     "metadata": {},
     "output_type": "execute_result"
    }
   ],
   "source": [
    "optimized_results.x"
   ]
  },
  {
   "cell_type": "markdown",
   "id": "9e2409a6",
   "metadata": {},
   "source": [
    "We can check that the weights sum up to 1:"
   ]
  },
  {
   "cell_type": "code",
   "execution_count": 25,
   "id": "06947bcb",
   "metadata": {},
   "outputs": [
    {
     "data": {
      "text/plain": [
       "1.0"
      ]
     },
     "execution_count": 25,
     "metadata": {},
     "output_type": "execute_result"
    }
   ],
   "source": [
    "# we get 1\n",
    "np.sum(optimized_results.x)"
   ]
  },
  {
   "cell_type": "markdown",
   "id": "7484f56a",
   "metadata": {},
   "source": [
    "We can see that the expected return of the portfolio is:"
   ]
  },
  {
   "cell_type": "code",
   "execution_count": 26,
   "id": "66a055e4",
   "metadata": {},
   "outputs": [
    {
     "data": {
      "text/plain": [
       "8.044870819705533e-05"
      ]
     },
     "execution_count": 26,
     "metadata": {},
     "output_type": "execute_result"
    }
   ],
   "source": [
    "np.sum(returns.mean()*optimized_results.x)"
   ]
  },
  {
   "cell_type": "markdown",
   "id": "edf09cc4",
   "metadata": {},
   "source": [
    "Which is almost 0.00008044 (some rounding errors) which was our requirement."
   ]
  },
  {
   "cell_type": "code",
   "execution_count": 27,
   "id": "88cd6da4",
   "metadata": {},
   "outputs": [],
   "source": [
    "symbols = ['S&P 500', 'TA', 'CC', 'FFR', 'LF']"
   ]
  },
  {
   "cell_type": "code",
   "execution_count": 28,
   "id": "57cb7616",
   "metadata": {},
   "outputs": [
    {
     "data": {
      "text/html": [
       "<div>\n",
       "<style scoped>\n",
       "    .dataframe tbody tr th:only-of-type {\n",
       "        vertical-align: middle;\n",
       "    }\n",
       "\n",
       "    .dataframe tbody tr th {\n",
       "        vertical-align: top;\n",
       "    }\n",
       "\n",
       "    .dataframe thead th {\n",
       "        text-align: right;\n",
       "    }\n",
       "</style>\n",
       "<table border=\"1\" class=\"dataframe\">\n",
       "  <thead>\n",
       "    <tr style=\"text-align: right;\">\n",
       "      <th></th>\n",
       "      <th>Symbol</th>\n",
       "      <th>Weight</th>\n",
       "    </tr>\n",
       "  </thead>\n",
       "  <tbody>\n",
       "    <tr>\n",
       "      <th>0</th>\n",
       "      <td>S&amp;P 500</td>\n",
       "      <td>4.815451e-02</td>\n",
       "    </tr>\n",
       "    <tr>\n",
       "      <th>1</th>\n",
       "      <td>TA</td>\n",
       "      <td>8.153088e-01</td>\n",
       "    </tr>\n",
       "    <tr>\n",
       "      <th>2</th>\n",
       "      <td>CC</td>\n",
       "      <td>7.928734e-02</td>\n",
       "    </tr>\n",
       "    <tr>\n",
       "      <th>3</th>\n",
       "      <td>FFR</td>\n",
       "      <td>5.724937e-02</td>\n",
       "    </tr>\n",
       "    <tr>\n",
       "      <th>4</th>\n",
       "      <td>LF</td>\n",
       "      <td>3.469447e-18</td>\n",
       "    </tr>\n",
       "  </tbody>\n",
       "</table>\n",
       "</div>"
      ],
      "text/plain": [
       "    Symbol        Weight\n",
       "0  S&P 500  4.815451e-02\n",
       "1       TA  8.153088e-01\n",
       "2       CC  7.928734e-02\n",
       "3      FFR  5.724937e-02\n",
       "4       LF  3.469447e-18"
      ]
     },
     "execution_count": 28,
     "metadata": {},
     "output_type": "execute_result"
    }
   ],
   "source": [
    "pd.DataFrame(list(zip(symbols, optimized_results.x)), \n",
    "                       columns=['Symbol', 'Weight'])"
   ]
  },
  {
   "cell_type": "code",
   "execution_count": null,
   "id": "7310bf0f",
   "metadata": {},
   "outputs": [],
   "source": [
    "0.04815451, 0.8153088, 0.07928734, 0.05724937"
   ]
  }
 ],
 "metadata": {
  "kernelspec": {
   "display_name": "Python 3 (ipykernel)",
   "language": "python",
   "name": "python3"
  },
  "language_info": {
   "codemirror_mode": {
    "name": "ipython",
    "version": 3
   },
   "file_extension": ".py",
   "mimetype": "text/x-python",
   "name": "python",
   "nbconvert_exporter": "python",
   "pygments_lexer": "ipython3",
   "version": "3.8.12"
  }
 },
 "nbformat": 4,
 "nbformat_minor": 5
}
