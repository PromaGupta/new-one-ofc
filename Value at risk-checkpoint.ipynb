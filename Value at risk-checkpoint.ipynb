{
 "cells": [
  {
   "cell_type": "code",
   "execution_count": 1,
   "id": "3dc7b0a4",
   "metadata": {},
   "outputs": [],
   "source": [
    "import pandas as pd\n",
    "import numpy as np\n",
    "import datetime as dt\n",
    "from pandas_datareader import data as pdr"
   ]
  },
  {
   "cell_type": "code",
   "execution_count": 2,
   "id": "4def81f4",
   "metadata": {},
   "outputs": [],
   "source": [
    "#import data\n",
    "\n",
    "def getData(stocks, start, end):\n",
    "    stockData = pdr.get_data_yahoo(stocks, start = start, end = end)\n",
    "    stockData = stockData['Close']\n",
    "    returns = stockData.pct_change()\n",
    "    meanReturns = returns.mean()\n",
    "    covMatrix = returns.cov()\n",
    "    return returns, meanReturns, covMatrix\n"
   ]
  },
  {
   "cell_type": "code",
   "execution_count": 26,
   "id": "6f545e3f",
   "metadata": {},
   "outputs": [],
   "source": [
    "#Portfolio Performance\n",
    "\n",
    "def PortfolioPerformance(weights, meanReturns, covMatrix, Time):\n",
    "    returns = np.sum(meanReturns*weights)*Time\n",
    "    std = np.sqrt(np.dot(weights.T,np.dot(covMatrix, weights)))* np.sqrt(Time)"
   ]
  },
  {
   "cell_type": "code",
   "execution_count": 27,
   "id": "7fc1fca8",
   "metadata": {},
   "outputs": [],
   "source": [
    "stocklist = ['CBA', 'BHP', 'TLS', 'NAB','WBC', 'STO']\n",
    "stocks = [stock+'.AX' for stock in stocklist]\n",
    "endDate = dt.datetime.now()\n",
    "startDate = endDate - dt.timedelta(days = 800)\n",
    "\n",
    "returns, meanReturns, covMatrix = getData(stocks, start = startDate, end=endDate)\n",
    "returns = returns.dropna()"
   ]
  },
  {
   "cell_type": "code",
   "execution_count": 28,
   "id": "b368d262",
   "metadata": {},
   "outputs": [
    {
     "name": "stdout",
     "output_type": "stream",
     "text": [
      "Symbols       CBA.AX    BHP.AX    TLS.AX    NAB.AX    WBC.AX    STO.AX  \\\n",
      "Date                                                                     \n",
      "2020-02-12  0.006237  0.003646 -0.015707  0.013777  0.006337  0.012300   \n",
      "2020-02-13  0.025470  0.002854  0.002660  0.032465  0.011413 -0.004860   \n",
      "2020-02-16 -0.016815 -0.004657 -0.013263 -0.002559 -0.003113 -0.007326   \n",
      "2020-02-17  0.008943  0.008058  0.002688  0.000000  0.005074 -0.009840   \n",
      "2020-02-18 -0.026922 -0.007220  0.005362  0.001100 -0.005049  0.014907   \n",
      "...              ...       ...       ...       ...       ...       ...   \n",
      "2022-04-13 -0.001499  0.001160  0.002488  0.003947  0.006214  0.012500   \n",
      "2022-04-14 -0.000469  0.013905 -0.002481 -0.006653 -0.007410  0.011111   \n",
      "2022-04-19  0.004789  0.012762  0.002488  0.012177  0.012028  0.015873   \n",
      "2022-04-20  0.002149 -0.016363  0.000000  0.000602 -0.001639 -0.010817   \n",
      "2022-04-21  0.010351 -0.030593  0.002481  0.009919  0.006158  0.017011   \n",
      "\n",
      "Symbols     portfolio  \n",
      "Date                   \n",
      "2020-02-12   0.004505  \n",
      "2020-02-13   0.009345  \n",
      "2020-02-16  -0.009212  \n",
      "2020-02-17   0.002262  \n",
      "2020-02-18  -0.003970  \n",
      "...               ...  \n",
      "2022-04-13   0.004209  \n",
      "2022-04-14   0.003625  \n",
      "2022-04-19   0.009955  \n",
      "2022-04-20  -0.005374  \n",
      "2022-04-21   0.002513  \n",
      "\n",
      "[555 rows x 7 columns]\n"
     ]
    }
   ],
   "source": [
    "weights = np.random.random(len(returns.columns))\n",
    "weights /= np.sum(weights)\n",
    "\n",
    "returns['portfolio'] = returns.dot(weights)\n",
    "print(returns)"
   ]
  },
  {
   "cell_type": "code",
   "execution_count": 31,
   "id": "f8fcb506",
   "metadata": {},
   "outputs": [
    {
     "name": "stdout",
     "output_type": "stream",
     "text": [
      "[0.24254246 0.19084811 0.14708293 0.06670197 0.1094268  0.24339774]\n",
      "Symbols\n",
      "CBA.AX    0.000563\n",
      "BHP.AX    0.000741\n",
      "TLS.AX    0.000209\n",
      "NAB.AX    0.000673\n",
      "WBC.AX    0.000174\n",
      "STO.AX    0.000553\n",
      "dtype: float64\n",
      "Symbols    CBA.AX    BHP.AX    TLS.AX    NAB.AX    WBC.AX    STO.AX\n",
      "Symbols                                                            \n",
      "CBA.AX   0.000385  0.000216  0.000126  0.000335  0.000329  0.000289\n",
      "BHP.AX   0.000216  0.000478  0.000110  0.000206  0.000213  0.000370\n",
      "TLS.AX   0.000126  0.000110  0.000215  0.000106  0.000103  0.000116\n",
      "NAB.AX   0.000335  0.000206  0.000106  0.000437  0.000409  0.000370\n",
      "WBC.AX   0.000329  0.000213  0.000103  0.000409  0.000452  0.000365\n",
      "STO.AX   0.000289  0.000370  0.000116  0.000370  0.000365  0.000977\n"
     ]
    }
   ],
   "source": [
    "print(weights)\n",
    "print(meanReturns)\n",
    "print(covMatrix)"
   ]
  },
  {
   "cell_type": "code",
   "execution_count": null,
   "id": "6f780c42",
   "metadata": {},
   "outputs": [],
   "source": [
    "##VaR-Historical"
   ]
  },
  {
   "cell_type": "code",
   "execution_count": 32,
   "id": "f8edb32d",
   "metadata": {},
   "outputs": [
    {
     "name": "stdout",
     "output_type": "stream",
     "text": [
      "-0.023467411285854743\n"
     ]
    }
   ],
   "source": [
    "#historical var\n",
    "\n",
    "def historicalVar(returns, alpha = 5):\n",
    "    if isinstance(returns, pd.Series):\n",
    "        return np.percentile(returns, alpha)\n",
    "    elif isinstance(returns, pd.DataFrame):\n",
    "        return returns.eggregate (historicalVaR, alpha = 5)\n",
    "    \n",
    "    else:\n",
    "        raise TypeError(\"Expected Returns to be dataframe or series\")\n",
    "\n",
    "print(historicalVar(returns['portfolio'], alpha = 5))"
   ]
  },
  {
   "cell_type": "code",
   "execution_count": 33,
   "id": "219bf063",
   "metadata": {},
   "outputs": [
    {
     "name": "stdout",
     "output_type": "stream",
     "text": [
      "Symbols\n",
      "CBA.AX      -0.046812\n",
      "BHP.AX      -0.049499\n",
      "TLS.AX      -0.034500\n",
      "NAB.AX      -0.051182\n",
      "WBC.AX      -0.053627\n",
      "STO.AX      -0.069052\n",
      "portfolio   -0.042044\n",
      "dtype: float64\n"
     ]
    }
   ],
   "source": [
    "#Historical cVar\n",
    "def historicalcVar(returns, alpha = 5):\n",
    "    if isinstance(returns, pd.Series):\n",
    "        belowVar = returns <= historicalVar(returns, alpha = alpha)\n",
    "        return returns[belowVar].mean()\n",
    "       # return np.percentile(returns, alpha)\n",
    "    elif isinstance(returns, pd.DataFrame):\n",
    "        return returns.aggregate (historicalcVar, alpha = 5)\n",
    "    \n",
    "    else:\n",
    "        raise TypeError(\"Expected Returns to be dataframe or series\")\n",
    "        \n",
    "print(historicalcVar(returns, alpha = 5))"
   ]
  },
  {
   "cell_type": "code",
   "execution_count": 34,
   "id": "b24b6bf1",
   "metadata": {},
   "outputs": [
    {
     "name": "stdout",
     "output_type": "stream",
     "text": [
      "-0.04204401480651667\n"
     ]
    }
   ],
   "source": [
    "print(historicalcVar(returns['portfolio'], alpha = 5))"
   ]
  },
  {
   "cell_type": "code",
   "execution_count": 35,
   "id": "1f2ecdbf",
   "metadata": {},
   "outputs": [],
   "source": [
    "#1day\n",
    "Time = 1\n",
    "\n",
    "Var = historicalVar(returns['portfolio'], alpha = 5)*np.sqrt(Time)\n",
    "cVar = historicalcVar(returns['portfolio'], alpha = 5)*np.sqrt(Time)"
   ]
  },
  {
   "cell_type": "code",
   "execution_count": null,
   "id": "3126c1c4",
   "metadata": {},
   "outputs": [],
   "source": []
  },
  {
   "cell_type": "code",
   "execution_count": null,
   "id": "d16b9ecd",
   "metadata": {},
   "outputs": [],
   "source": []
  },
  {
   "cell_type": "code",
   "execution_count": 38,
   "id": "802b7b2e",
   "metadata": {},
   "outputs": [],
   "source": [
    "pRet= PortfolioPerformance(weights, meanReturns, covMatrix, Time)\n",
    "pRet"
   ]
  },
  {
   "cell_type": "code",
   "execution_count": 42,
   "id": "464e7886",
   "metadata": {},
   "outputs": [],
   "source": [
    "pStd = PortfolioPerformance(weights, meanReturns, covMatrix, Time)"
   ]
  },
  {
   "cell_type": "code",
   "execution_count": 45,
   "id": "3d68ede5",
   "metadata": {},
   "outputs": [
    {
     "name": "stdout",
     "output_type": "stream",
     "text": [
      "None\n"
     ]
    }
   ],
   "source": [
    "print(pStd)"
   ]
  },
  {
   "cell_type": "code",
   "execution_count": null,
   "id": "6cab528d",
   "metadata": {},
   "outputs": [],
   "source": []
  },
  {
   "cell_type": "code",
   "execution_count": null,
   "id": "168afa84",
   "metadata": {},
   "outputs": [],
   "source": []
  },
  {
   "cell_type": "code",
   "execution_count": null,
   "id": "476fde63",
   "metadata": {},
   "outputs": [],
   "source": []
  },
  {
   "cell_type": "code",
   "execution_count": null,
   "id": "5c9136dc",
   "metadata": {},
   "outputs": [],
   "source": []
  },
  {
   "cell_type": "code",
   "execution_count": null,
   "id": "4868ecd4",
   "metadata": {},
   "outputs": [],
   "source": []
  },
  {
   "cell_type": "code",
   "execution_count": 41,
   "id": "d849e940",
   "metadata": {},
   "outputs": [
    {
     "ename": "TypeError",
     "evalue": "unsupported operand type(s) for *: 'int' and 'NoneType'",
     "output_type": "error",
     "traceback": [
      "\u001b[1;31m---------------------------------------------------------------------------\u001b[0m",
      "\u001b[1;31mTypeError\u001b[0m                                 Traceback (most recent call last)",
      "\u001b[1;32mC:\\Users\\PROMA~1.GUP\\AppData\\Local\\Temp/ipykernel_8332/1369941313.py\u001b[0m in \u001b[0;36m<module>\u001b[1;34m\u001b[0m\n\u001b[0;32m      1\u001b[0m \u001b[0mInvestment\u001b[0m \u001b[1;33m=\u001b[0m \u001b[1;36m100000\u001b[0m\u001b[1;33m\u001b[0m\u001b[1;33m\u001b[0m\u001b[0m\n\u001b[0;32m      2\u001b[0m \u001b[1;33m\u001b[0m\u001b[0m\n\u001b[1;32m----> 3\u001b[1;33m \u001b[0mprint\u001b[0m\u001b[1;33m(\u001b[0m\u001b[1;34m'Expected Portfolio Return:  '\u001b[0m\u001b[1;33m,\u001b[0m \u001b[0mround\u001b[0m\u001b[1;33m(\u001b[0m\u001b[0mInvestment\u001b[0m\u001b[1;33m*\u001b[0m\u001b[0mpRet\u001b[0m\u001b[1;33m,\u001b[0m\u001b[1;36m2\u001b[0m\u001b[1;33m)\u001b[0m\u001b[1;33m)\u001b[0m\u001b[1;33m\u001b[0m\u001b[1;33m\u001b[0m\u001b[0m\n\u001b[0m\u001b[0;32m      4\u001b[0m \u001b[0mprint\u001b[0m\u001b[1;33m(\u001b[0m\u001b[1;34m'Var at 95 CI:   '\u001b[0m\u001b[1;33m,\u001b[0m \u001b[0mround\u001b[0m\u001b[1;33m(\u001b[0m\u001b[0mInvestment\u001b[0m\u001b[1;33m*\u001b[0m\u001b[0mpRet\u001b[0m\u001b[1;33m,\u001b[0m\u001b[1;36m2\u001b[0m\u001b[1;33m)\u001b[0m\u001b[1;33m)\u001b[0m\u001b[1;33m\u001b[0m\u001b[1;33m\u001b[0m\u001b[0m\n\u001b[0;32m      5\u001b[0m \u001b[0mprint\u001b[0m\u001b[1;33m(\u001b[0m\u001b[1;34m'CVar at 95 CI:  '\u001b[0m\u001b[1;33m,\u001b[0m \u001b[0mround\u001b[0m\u001b[1;33m(\u001b[0m\u001b[0mInvestment\u001b[0m\u001b[1;33m*\u001b[0m\u001b[0mpRet\u001b[0m\u001b[1;33m,\u001b[0m\u001b[1;36m2\u001b[0m\u001b[1;33m)\u001b[0m\u001b[1;33m)\u001b[0m\u001b[1;33m\u001b[0m\u001b[1;33m\u001b[0m\u001b[0m\n",
      "\u001b[1;31mTypeError\u001b[0m: unsupported operand type(s) for *: 'int' and 'NoneType'"
     ]
    }
   ],
   "source": [
    "Investment = 100000\n",
    "\n",
    "print('Expected Portfolio Return:  ', round(Investment*pRet,2))\n",
    "print('Var at 95 CI:   ', round(Investment*pRet,2))\n",
    "print('CVar at 95 CI:  ', round(Investment*pRet,2))"
   ]
  },
  {
   "cell_type": "code",
   "execution_count": null,
   "id": "b7d55d40",
   "metadata": {},
   "outputs": [],
   "source": [
    "from scipy.test"
   ]
  },
  {
   "cell_type": "code",
   "execution_count": null,
   "id": "cc9e982c",
   "metadata": {},
   "outputs": [],
   "source": [
    "##Parametric Var\n",
    "\n",
    "def var_parametric(portfolioReturn, potfolioStd, distribution ='normal', alpha = 5, dof = 6):\n",
    "    \n",
    "##calcultae the portfolio var given a distribution with known parameters\n",
    "\n"
   ]
  },
  {
   "cell_type": "code",
   "execution_count": null,
   "id": "ea0a532f",
   "metadata": {},
   "outputs": [],
   "source": []
  }
 ],
 "metadata": {
  "kernelspec": {
   "display_name": "Python 3 (ipykernel)",
   "language": "python",
   "name": "python3"
  },
  "language_info": {
   "codemirror_mode": {
    "name": "ipython",
    "version": 3
   },
   "file_extension": ".py",
   "mimetype": "text/x-python",
   "name": "python",
   "nbconvert_exporter": "python",
   "pygments_lexer": "ipython3",
   "version": "3.8.12"
  }
 },
 "nbformat": 4,
 "nbformat_minor": 5
}
