{
 "cells": [
  {
   "cell_type": "code",
   "execution_count": 1,
   "id": "12ca6255",
   "metadata": {},
   "outputs": [],
   "source": [
    "import pandas as pd\n",
    "import numpy as np\n",
    "from scipy.optimize import minimize\n",
    "import matplotlib.pyplot as plt\n",
    "%matplotlib inline"
   ]
  },
  {
   "cell_type": "code",
   "execution_count": 2,
   "id": "5a1f6ed1",
   "metadata": {},
   "outputs": [],
   "source": [
    "df = pd.read_csv('Diff-stock.csv')"
   ]
  },
  {
   "cell_type": "markdown",
   "id": "3b32a233",
   "metadata": {},
   "source": [
    "Here I am impporting the variables which currently I am working on. Here I am trying to find out that for example, this is a portfolio of Govt which includes share market, Fed Balance Sheet, Federal Funds rate and the Loss Function and I amhere trying to find out that on which variable Govt. should give more focus as well as more weight in the time of taking decision."
   ]
  },
  {
   "cell_type": "markdown",
   "id": "4896b2a4",
   "metadata": {},
   "source": [
    "Here, the datasets are twice differenced to ensure stationarity."
   ]
  },
  {
   "cell_type": "code",
   "execution_count": 3,
   "id": "3806dd71",
   "metadata": {},
   "outputs": [
    {
     "data": {
      "text/html": [
       "<div>\n",
       "<style scoped>\n",
       "    .dataframe tbody tr th:only-of-type {\n",
       "        vertical-align: middle;\n",
       "    }\n",
       "\n",
       "    .dataframe tbody tr th {\n",
       "        vertical-align: top;\n",
       "    }\n",
       "\n",
       "    .dataframe thead th {\n",
       "        text-align: right;\n",
       "    }\n",
       "</style>\n",
       "<table border=\"1\" class=\"dataframe\">\n",
       "  <thead>\n",
       "    <tr style=\"text-align: right;\">\n",
       "      <th></th>\n",
       "      <th>DATE</th>\n",
       "      <th>S&amp;P 500</th>\n",
       "      <th>TA</th>\n",
       "      <th>CC</th>\n",
       "      <th>FFR</th>\n",
       "      <th>LF</th>\n",
       "    </tr>\n",
       "  </thead>\n",
       "  <tbody>\n",
       "    <tr>\n",
       "      <th>0</th>\n",
       "      <td>2010-03</td>\n",
       "      <td>0.029018</td>\n",
       "      <td>0.008611</td>\n",
       "      <td>-0.000738</td>\n",
       "      <td>0.021659</td>\n",
       "      <td>-1.133584</td>\n",
       "    </tr>\n",
       "    <tr>\n",
       "      <th>1</th>\n",
       "      <td>2010-04</td>\n",
       "      <td>-0.042481</td>\n",
       "      <td>-0.000267</td>\n",
       "      <td>-0.003030</td>\n",
       "      <td>-0.004270</td>\n",
       "      <td>1.019559</td>\n",
       "    </tr>\n",
       "    <tr>\n",
       "      <th>2</th>\n",
       "      <td>2010-05</td>\n",
       "      <td>-0.100183</td>\n",
       "      <td>-0.009751</td>\n",
       "      <td>-0.000112</td>\n",
       "      <td>-0.031505</td>\n",
       "      <td>3.585353</td>\n",
       "    </tr>\n",
       "    <tr>\n",
       "      <th>3</th>\n",
       "      <td>2010-06</td>\n",
       "      <td>0.030143</td>\n",
       "      <td>-0.003164</td>\n",
       "      <td>0.001554</td>\n",
       "      <td>-0.026290</td>\n",
       "      <td>-1.340778</td>\n",
       "    </tr>\n",
       "    <tr>\n",
       "      <th>4</th>\n",
       "      <td>2010-07</td>\n",
       "      <td>0.121904</td>\n",
       "      <td>-0.002388</td>\n",
       "      <td>-0.000532</td>\n",
       "      <td>0.029892</td>\n",
       "      <td>-2.219644</td>\n",
       "    </tr>\n",
       "    <tr>\n",
       "      <th>...</th>\n",
       "      <td>...</td>\n",
       "      <td>...</td>\n",
       "      <td>...</td>\n",
       "      <td>...</td>\n",
       "      <td>...</td>\n",
       "      <td>...</td>\n",
       "    </tr>\n",
       "    <tr>\n",
       "      <th>113</th>\n",
       "      <td>2019-08</td>\n",
       "      <td>-0.031300</td>\n",
       "      <td>0.001927</td>\n",
       "      <td>-0.003976</td>\n",
       "      <td>-0.302333</td>\n",
       "      <td>0.109370</td>\n",
       "    </tr>\n",
       "    <tr>\n",
       "      <th>114</th>\n",
       "      <td>2019-09</td>\n",
       "      <td>0.035198</td>\n",
       "      <td>0.017413</td>\n",
       "      <td>0.006447</td>\n",
       "      <td>0.194290</td>\n",
       "      <td>0.050563</td>\n",
       "    </tr>\n",
       "    <tr>\n",
       "      <th>115</th>\n",
       "      <td>2019-10</td>\n",
       "      <td>0.003379</td>\n",
       "      <td>0.032283</td>\n",
       "      <td>-0.003852</td>\n",
       "      <td>-0.130516</td>\n",
       "      <td>-0.187102</td>\n",
       "    </tr>\n",
       "    <tr>\n",
       "      <th>116</th>\n",
       "      <td>2019-11</td>\n",
       "      <td>0.013160</td>\n",
       "      <td>-0.023511</td>\n",
       "      <td>0.005203</td>\n",
       "      <td>-0.063022</td>\n",
       "      <td>-0.018272</td>\n",
       "    </tr>\n",
       "    <tr>\n",
       "      <th>117</th>\n",
       "      <td>2019-12</td>\n",
       "      <td>-0.005292</td>\n",
       "      <td>-0.000105</td>\n",
       "      <td>-0.004229</td>\n",
       "      <td>0.273978</td>\n",
       "      <td>0.161478</td>\n",
       "    </tr>\n",
       "  </tbody>\n",
       "</table>\n",
       "<p>118 rows × 6 columns</p>\n",
       "</div>"
      ],
      "text/plain": [
       "        DATE   S&P 500        TA        CC       FFR        LF\n",
       "0    2010-03  0.029018  0.008611 -0.000738  0.021659 -1.133584\n",
       "1    2010-04 -0.042481 -0.000267 -0.003030 -0.004270  1.019559\n",
       "2    2010-05 -0.100183 -0.009751 -0.000112 -0.031505  3.585353\n",
       "3    2010-06  0.030143 -0.003164  0.001554 -0.026290 -1.340778\n",
       "4    2010-07  0.121904 -0.002388 -0.000532  0.029892 -2.219644\n",
       "..       ...       ...       ...       ...       ...       ...\n",
       "113  2019-08 -0.031300  0.001927 -0.003976 -0.302333  0.109370\n",
       "114  2019-09  0.035198  0.017413  0.006447  0.194290  0.050563\n",
       "115  2019-10  0.003379  0.032283 -0.003852 -0.130516 -0.187102\n",
       "116  2019-11  0.013160 -0.023511  0.005203 -0.063022 -0.018272\n",
       "117  2019-12 -0.005292 -0.000105 -0.004229  0.273978  0.161478\n",
       "\n",
       "[118 rows x 6 columns]"
      ]
     },
     "execution_count": 3,
     "metadata": {},
     "output_type": "execute_result"
    }
   ],
   "source": [
    "df"
   ]
  },
  {
   "cell_type": "markdown",
   "id": "893eaad8",
   "metadata": {},
   "source": [
    "Here,\n",
    " 'S&P 500' = S & P 500 index\n",
    " 'TA' =  Total Asset\n",
    " 'CC' = Currency in Circulation\n",
    " 'FFR'= Federal Funds Rate\n",
    " 'LF'= Loss Function"
   ]
  },
  {
   "cell_type": "code",
   "execution_count": 4,
   "id": "283ece13",
   "metadata": {},
   "outputs": [
    {
     "data": {
      "text/html": [
       "<div>\n",
       "<style scoped>\n",
       "    .dataframe tbody tr th:only-of-type {\n",
       "        vertical-align: middle;\n",
       "    }\n",
       "\n",
       "    .dataframe tbody tr th {\n",
       "        vertical-align: top;\n",
       "    }\n",
       "\n",
       "    .dataframe thead th {\n",
       "        text-align: right;\n",
       "    }\n",
       "</style>\n",
       "<table border=\"1\" class=\"dataframe\">\n",
       "  <thead>\n",
       "    <tr style=\"text-align: right;\">\n",
       "      <th></th>\n",
       "      <th>S&amp;P 500</th>\n",
       "      <th>TA</th>\n",
       "      <th>CC</th>\n",
       "      <th>FFR</th>\n",
       "      <th>LF</th>\n",
       "    </tr>\n",
       "    <tr>\n",
       "      <th>DATE</th>\n",
       "      <th></th>\n",
       "      <th></th>\n",
       "      <th></th>\n",
       "      <th></th>\n",
       "      <th></th>\n",
       "    </tr>\n",
       "  </thead>\n",
       "  <tbody>\n",
       "    <tr>\n",
       "      <th>2010-03</th>\n",
       "      <td>0.029018</td>\n",
       "      <td>0.008611</td>\n",
       "      <td>-0.000738</td>\n",
       "      <td>0.021659</td>\n",
       "      <td>-1.133584</td>\n",
       "    </tr>\n",
       "    <tr>\n",
       "      <th>2010-04</th>\n",
       "      <td>-0.042481</td>\n",
       "      <td>-0.000267</td>\n",
       "      <td>-0.003030</td>\n",
       "      <td>-0.004270</td>\n",
       "      <td>1.019559</td>\n",
       "    </tr>\n",
       "    <tr>\n",
       "      <th>2010-05</th>\n",
       "      <td>-0.100183</td>\n",
       "      <td>-0.009751</td>\n",
       "      <td>-0.000112</td>\n",
       "      <td>-0.031505</td>\n",
       "      <td>3.585353</td>\n",
       "    </tr>\n",
       "    <tr>\n",
       "      <th>2010-06</th>\n",
       "      <td>0.030143</td>\n",
       "      <td>-0.003164</td>\n",
       "      <td>0.001554</td>\n",
       "      <td>-0.026290</td>\n",
       "      <td>-1.340778</td>\n",
       "    </tr>\n",
       "    <tr>\n",
       "      <th>2010-07</th>\n",
       "      <td>0.121904</td>\n",
       "      <td>-0.002388</td>\n",
       "      <td>-0.000532</td>\n",
       "      <td>0.029892</td>\n",
       "      <td>-2.219644</td>\n",
       "    </tr>\n",
       "    <tr>\n",
       "      <th>...</th>\n",
       "      <td>...</td>\n",
       "      <td>...</td>\n",
       "      <td>...</td>\n",
       "      <td>...</td>\n",
       "      <td>...</td>\n",
       "    </tr>\n",
       "    <tr>\n",
       "      <th>2019-08</th>\n",
       "      <td>-0.031300</td>\n",
       "      <td>0.001927</td>\n",
       "      <td>-0.003976</td>\n",
       "      <td>-0.302333</td>\n",
       "      <td>0.109370</td>\n",
       "    </tr>\n",
       "    <tr>\n",
       "      <th>2019-09</th>\n",
       "      <td>0.035198</td>\n",
       "      <td>0.017413</td>\n",
       "      <td>0.006447</td>\n",
       "      <td>0.194290</td>\n",
       "      <td>0.050563</td>\n",
       "    </tr>\n",
       "    <tr>\n",
       "      <th>2019-10</th>\n",
       "      <td>0.003379</td>\n",
       "      <td>0.032283</td>\n",
       "      <td>-0.003852</td>\n",
       "      <td>-0.130516</td>\n",
       "      <td>-0.187102</td>\n",
       "    </tr>\n",
       "    <tr>\n",
       "      <th>2019-11</th>\n",
       "      <td>0.013160</td>\n",
       "      <td>-0.023511</td>\n",
       "      <td>0.005203</td>\n",
       "      <td>-0.063022</td>\n",
       "      <td>-0.018272</td>\n",
       "    </tr>\n",
       "    <tr>\n",
       "      <th>2019-12</th>\n",
       "      <td>-0.005292</td>\n",
       "      <td>-0.000105</td>\n",
       "      <td>-0.004229</td>\n",
       "      <td>0.273978</td>\n",
       "      <td>0.161478</td>\n",
       "    </tr>\n",
       "  </tbody>\n",
       "</table>\n",
       "<p>118 rows × 5 columns</p>\n",
       "</div>"
      ],
      "text/plain": [
       "          S&P 500        TA        CC       FFR        LF\n",
       "DATE                                                     \n",
       "2010-03  0.029018  0.008611 -0.000738  0.021659 -1.133584\n",
       "2010-04 -0.042481 -0.000267 -0.003030 -0.004270  1.019559\n",
       "2010-05 -0.100183 -0.009751 -0.000112 -0.031505  3.585353\n",
       "2010-06  0.030143 -0.003164  0.001554 -0.026290 -1.340778\n",
       "2010-07  0.121904 -0.002388 -0.000532  0.029892 -2.219644\n",
       "...           ...       ...       ...       ...       ...\n",
       "2019-08 -0.031300  0.001927 -0.003976 -0.302333  0.109370\n",
       "2019-09  0.035198  0.017413  0.006447  0.194290  0.050563\n",
       "2019-10  0.003379  0.032283 -0.003852 -0.130516 -0.187102\n",
       "2019-11  0.013160 -0.023511  0.005203 -0.063022 -0.018272\n",
       "2019-12 -0.005292 -0.000105 -0.004229  0.273978  0.161478\n",
       "\n",
       "[118 rows x 5 columns]"
      ]
     },
     "execution_count": 4,
     "metadata": {},
     "output_type": "execute_result"
    }
   ],
   "source": [
    "df = df.set_index('DATE')\n",
    "df"
   ]
  },
  {
   "cell_type": "markdown",
   "id": "c3e15014",
   "metadata": {},
   "source": [
    "The below I am going to calculate the mean of the variables:"
   ]
  },
  {
   "cell_type": "code",
   "execution_count": 5,
   "id": "daa2fc71",
   "metadata": {},
   "outputs": [],
   "source": [
    "returns = df.pct_change()"
   ]
  },
  {
   "cell_type": "code",
   "execution_count": 6,
   "id": "c4ca8090",
   "metadata": {},
   "outputs": [
    {
     "data": {
      "text/html": [
       "<div>\n",
       "<style scoped>\n",
       "    .dataframe tbody tr th:only-of-type {\n",
       "        vertical-align: middle;\n",
       "    }\n",
       "\n",
       "    .dataframe tbody tr th {\n",
       "        vertical-align: top;\n",
       "    }\n",
       "\n",
       "    .dataframe thead th {\n",
       "        text-align: right;\n",
       "    }\n",
       "</style>\n",
       "<table border=\"1\" class=\"dataframe\">\n",
       "  <thead>\n",
       "    <tr style=\"text-align: right;\">\n",
       "      <th></th>\n",
       "      <th>S&amp;P 500</th>\n",
       "      <th>TA</th>\n",
       "      <th>CC</th>\n",
       "      <th>FFR</th>\n",
       "      <th>LF</th>\n",
       "    </tr>\n",
       "    <tr>\n",
       "      <th>DATE</th>\n",
       "      <th></th>\n",
       "      <th></th>\n",
       "      <th></th>\n",
       "      <th></th>\n",
       "      <th></th>\n",
       "    </tr>\n",
       "  </thead>\n",
       "  <tbody>\n",
       "    <tr>\n",
       "      <th>2010-03</th>\n",
       "      <td>NaN</td>\n",
       "      <td>NaN</td>\n",
       "      <td>NaN</td>\n",
       "      <td>NaN</td>\n",
       "      <td>NaN</td>\n",
       "    </tr>\n",
       "    <tr>\n",
       "      <th>2010-04</th>\n",
       "      <td>-2.463963</td>\n",
       "      <td>-1.031030</td>\n",
       "      <td>3.106258</td>\n",
       "      <td>-1.197163</td>\n",
       "      <td>-1.899412</td>\n",
       "    </tr>\n",
       "    <tr>\n",
       "      <th>2010-05</th>\n",
       "      <td>1.358288</td>\n",
       "      <td>35.494180</td>\n",
       "      <td>-0.962909</td>\n",
       "      <td>6.377697</td>\n",
       "      <td>2.516571</td>\n",
       "    </tr>\n",
       "    <tr>\n",
       "      <th>2010-06</th>\n",
       "      <td>-1.300882</td>\n",
       "      <td>-0.675489</td>\n",
       "      <td>-14.829711</td>\n",
       "      <td>-0.165529</td>\n",
       "      <td>-1.373960</td>\n",
       "    </tr>\n",
       "    <tr>\n",
       "      <th>2010-07</th>\n",
       "      <td>3.044158</td>\n",
       "      <td>-0.245472</td>\n",
       "      <td>-1.342033</td>\n",
       "      <td>-2.137014</td>\n",
       "      <td>0.655489</td>\n",
       "    </tr>\n",
       "    <tr>\n",
       "      <th>...</th>\n",
       "      <td>...</td>\n",
       "      <td>...</td>\n",
       "      <td>...</td>\n",
       "      <td>...</td>\n",
       "      <td>...</td>\n",
       "    </tr>\n",
       "    <tr>\n",
       "      <th>2019-08</th>\n",
       "      <td>-0.416213</td>\n",
       "      <td>-1.819313</td>\n",
       "      <td>-2.935127</td>\n",
       "      <td>-8.845145</td>\n",
       "      <td>-1.842807</td>\n",
       "    </tr>\n",
       "    <tr>\n",
       "      <th>2019-09</th>\n",
       "      <td>-2.124549</td>\n",
       "      <td>8.034076</td>\n",
       "      <td>-2.621516</td>\n",
       "      <td>-1.642636</td>\n",
       "      <td>-0.537688</td>\n",
       "    </tr>\n",
       "    <tr>\n",
       "      <th>2019-10</th>\n",
       "      <td>-0.904010</td>\n",
       "      <td>0.854013</td>\n",
       "      <td>-1.597503</td>\n",
       "      <td>-1.671758</td>\n",
       "      <td>-4.700371</td>\n",
       "    </tr>\n",
       "    <tr>\n",
       "      <th>2019-11</th>\n",
       "      <td>2.895094</td>\n",
       "      <td>-1.728273</td>\n",
       "      <td>-2.350886</td>\n",
       "      <td>-0.517136</td>\n",
       "      <td>-0.902342</td>\n",
       "    </tr>\n",
       "    <tr>\n",
       "      <th>2019-12</th>\n",
       "      <td>-1.402081</td>\n",
       "      <td>-0.995522</td>\n",
       "      <td>-1.812770</td>\n",
       "      <td>-5.347381</td>\n",
       "      <td>-9.837425</td>\n",
       "    </tr>\n",
       "  </tbody>\n",
       "</table>\n",
       "<p>118 rows × 5 columns</p>\n",
       "</div>"
      ],
      "text/plain": [
       "          S&P 500         TA         CC       FFR        LF\n",
       "DATE                                                       \n",
       "2010-03       NaN        NaN        NaN       NaN       NaN\n",
       "2010-04 -2.463963  -1.031030   3.106258 -1.197163 -1.899412\n",
       "2010-05  1.358288  35.494180  -0.962909  6.377697  2.516571\n",
       "2010-06 -1.300882  -0.675489 -14.829711 -0.165529 -1.373960\n",
       "2010-07  3.044158  -0.245472  -1.342033 -2.137014  0.655489\n",
       "...           ...        ...        ...       ...       ...\n",
       "2019-08 -0.416213  -1.819313  -2.935127 -8.845145 -1.842807\n",
       "2019-09 -2.124549   8.034076  -2.621516 -1.642636 -0.537688\n",
       "2019-10 -0.904010   0.854013  -1.597503 -1.671758 -4.700371\n",
       "2019-11  2.895094  -1.728273  -2.350886 -0.517136 -0.902342\n",
       "2019-12 -1.402081  -0.995522  -1.812770 -5.347381 -9.837425\n",
       "\n",
       "[118 rows x 5 columns]"
      ]
     },
     "execution_count": 6,
     "metadata": {},
     "output_type": "execute_result"
    }
   ],
   "source": [
    "returns"
   ]
  },
  {
   "cell_type": "code",
   "execution_count": 16,
   "id": "d80ddbf1",
   "metadata": {},
   "outputs": [
    {
     "data": {
      "text/html": [
       "<div>\n",
       "<style scoped>\n",
       "    .dataframe tbody tr th:only-of-type {\n",
       "        vertical-align: middle;\n",
       "    }\n",
       "\n",
       "    .dataframe tbody tr th {\n",
       "        vertical-align: top;\n",
       "    }\n",
       "\n",
       "    .dataframe thead th {\n",
       "        text-align: right;\n",
       "    }\n",
       "</style>\n",
       "<table border=\"1\" class=\"dataframe\">\n",
       "  <thead>\n",
       "    <tr style=\"text-align: right;\">\n",
       "      <th></th>\n",
       "      <th>S&amp;P 500</th>\n",
       "      <th>TA</th>\n",
       "      <th>CC</th>\n",
       "      <th>FFR</th>\n",
       "      <th>LF</th>\n",
       "    </tr>\n",
       "    <tr>\n",
       "      <th>DATE</th>\n",
       "      <th></th>\n",
       "      <th></th>\n",
       "      <th></th>\n",
       "      <th></th>\n",
       "      <th></th>\n",
       "    </tr>\n",
       "  </thead>\n",
       "  <tbody>\n",
       "    <tr>\n",
       "      <th>2010-04</th>\n",
       "      <td>-2.463963</td>\n",
       "      <td>-1.031030</td>\n",
       "      <td>3.106258</td>\n",
       "      <td>-1.197163</td>\n",
       "      <td>-1.899412</td>\n",
       "    </tr>\n",
       "    <tr>\n",
       "      <th>2010-05</th>\n",
       "      <td>1.358288</td>\n",
       "      <td>35.494180</td>\n",
       "      <td>-0.962909</td>\n",
       "      <td>6.377697</td>\n",
       "      <td>2.516571</td>\n",
       "    </tr>\n",
       "    <tr>\n",
       "      <th>2010-06</th>\n",
       "      <td>-1.300882</td>\n",
       "      <td>-0.675489</td>\n",
       "      <td>-14.829711</td>\n",
       "      <td>-0.165529</td>\n",
       "      <td>-1.373960</td>\n",
       "    </tr>\n",
       "    <tr>\n",
       "      <th>2010-07</th>\n",
       "      <td>3.044158</td>\n",
       "      <td>-0.245472</td>\n",
       "      <td>-1.342033</td>\n",
       "      <td>-2.137014</td>\n",
       "      <td>0.655489</td>\n",
       "    </tr>\n",
       "    <tr>\n",
       "      <th>2010-08</th>\n",
       "      <td>-1.944411</td>\n",
       "      <td>0.899624</td>\n",
       "      <td>3.154707</td>\n",
       "      <td>-0.971223</td>\n",
       "      <td>-0.520509</td>\n",
       "    </tr>\n",
       "    <tr>\n",
       "      <th>...</th>\n",
       "      <td>...</td>\n",
       "      <td>...</td>\n",
       "      <td>...</td>\n",
       "      <td>...</td>\n",
       "      <td>...</td>\n",
       "    </tr>\n",
       "    <tr>\n",
       "      <th>2019-08</th>\n",
       "      <td>-0.416213</td>\n",
       "      <td>-1.819313</td>\n",
       "      <td>-2.935127</td>\n",
       "      <td>-8.845145</td>\n",
       "      <td>-1.842807</td>\n",
       "    </tr>\n",
       "    <tr>\n",
       "      <th>2019-09</th>\n",
       "      <td>-2.124549</td>\n",
       "      <td>8.034076</td>\n",
       "      <td>-2.621516</td>\n",
       "      <td>-1.642636</td>\n",
       "      <td>-0.537688</td>\n",
       "    </tr>\n",
       "    <tr>\n",
       "      <th>2019-10</th>\n",
       "      <td>-0.904010</td>\n",
       "      <td>0.854013</td>\n",
       "      <td>-1.597503</td>\n",
       "      <td>-1.671758</td>\n",
       "      <td>-4.700371</td>\n",
       "    </tr>\n",
       "    <tr>\n",
       "      <th>2019-11</th>\n",
       "      <td>2.895094</td>\n",
       "      <td>-1.728273</td>\n",
       "      <td>-2.350886</td>\n",
       "      <td>-0.517136</td>\n",
       "      <td>-0.902342</td>\n",
       "    </tr>\n",
       "    <tr>\n",
       "      <th>2019-12</th>\n",
       "      <td>-1.402081</td>\n",
       "      <td>-0.995522</td>\n",
       "      <td>-1.812770</td>\n",
       "      <td>-5.347381</td>\n",
       "      <td>-9.837425</td>\n",
       "    </tr>\n",
       "  </tbody>\n",
       "</table>\n",
       "<p>117 rows × 5 columns</p>\n",
       "</div>"
      ],
      "text/plain": [
       "          S&P 500         TA         CC       FFR        LF\n",
       "DATE                                                       \n",
       "2010-04 -2.463963  -1.031030   3.106258 -1.197163 -1.899412\n",
       "2010-05  1.358288  35.494180  -0.962909  6.377697  2.516571\n",
       "2010-06 -1.300882  -0.675489 -14.829711 -0.165529 -1.373960\n",
       "2010-07  3.044158  -0.245472  -1.342033 -2.137014  0.655489\n",
       "2010-08 -1.944411   0.899624   3.154707 -0.971223 -0.520509\n",
       "...           ...        ...        ...       ...       ...\n",
       "2019-08 -0.416213  -1.819313  -2.935127 -8.845145 -1.842807\n",
       "2019-09 -2.124549   8.034076  -2.621516 -1.642636 -0.537688\n",
       "2019-10 -0.904010   0.854013  -1.597503 -1.671758 -4.700371\n",
       "2019-11  2.895094  -1.728273  -2.350886 -0.517136 -0.902342\n",
       "2019-12 -1.402081  -0.995522  -1.812770 -5.347381 -9.837425\n",
       "\n",
       "[117 rows x 5 columns]"
      ]
     },
     "execution_count": 16,
     "metadata": {},
     "output_type": "execute_result"
    }
   ],
   "source": [
    "returns = returns.dropna()\n",
    "returns"
   ]
  },
  {
   "cell_type": "code",
   "execution_count": 17,
   "id": "9e08b2d2",
   "metadata": {},
   "outputs": [],
   "source": [
    "returns.to_csv(\"Returns.csv\")"
   ]
  },
  {
   "cell_type": "code",
   "execution_count": 8,
   "id": "236251b0",
   "metadata": {},
   "outputs": [
    {
     "data": {
      "text/plain": [
       "S&P 500    8.081081\n",
       "TA         1.050390\n",
       "CC        -9.546617\n",
       "FFR       -0.834054\n",
       "LF         6.756371\n",
       "dtype: float64"
      ]
     },
     "execution_count": 8,
     "metadata": {},
     "output_type": "execute_result"
    }
   ],
   "source": [
    "returns.mean()"
   ]
  },
  {
   "cell_type": "code",
   "execution_count": 9,
   "id": "fb16f408",
   "metadata": {},
   "outputs": [
    {
     "data": {
      "text/plain": [
       "1.101434128898222"
      ]
     },
     "execution_count": 9,
     "metadata": {},
     "output_type": "execute_result"
    }
   ],
   "source": [
    "returns.mean().mean()"
   ]
  },
  {
   "cell_type": "markdown",
   "id": "7f7f6194",
   "metadata": {},
   "source": [
    "Now, I will calculate the weight of the variable with the below automated code:"
   ]
  },
  {
   "cell_type": "code",
   "execution_count": 10,
   "id": "a7d0adea",
   "metadata": {},
   "outputs": [
    {
     "data": {
      "text/plain": [
       "     fun: 167.70641659804164\n",
       "     jac: array([1283.26727104,  314.80454636,   -6.95209694,   55.22638321,\n",
       "       1100.79135323])\n",
       " message: 'Optimization terminated successfully'\n",
       "    nfev: 46\n",
       "     nit: 7\n",
       "    njev: 7\n",
       "  status: 0\n",
       " success: True\n",
       "       x: array([0.05394617, 0.42353328, 0.        , 0.42305411, 0.0994665 ])"
      ]
     },
     "execution_count": 10,
     "metadata": {},
     "output_type": "execute_result"
    }
   ],
   "source": [
    "# the objective function is to minimize the portfolio risk\n",
    "def objective(weights): \n",
    "    weights = np.array(weights)\n",
    "    return weights.dot(returns.cov()).dot(weights.T)\n",
    "# The constraints\n",
    "cons = (# The weights must sum up to one.\n",
    "        {\"type\":\"eq\", \"fun\": lambda x: np.sum(x)-1}, \n",
    "        # This constraints says that the inequalities (ineq) must be non-negative.\n",
    "        # The expected daily return of our portfolio and we want to be at greater than 0.002352\n",
    "        {\"type\": \"ineq\", \"fun\": lambda x: np.sum(returns.mean()*x)-1.2})\n",
    "# Every stock can get any weight from 0 to 1\n",
    "bounds = tuple((0,1) for x in range(returns.shape[1]))\n",
    "# Initialize the weights with an even split\n",
    "# In out case each stock will have 10% at the beginning\n",
    "guess = [1./returns.shape[1] for x in range(returns.shape[1])]\n",
    "optimized_results = minimize(objective, guess, method = \"SLSQP\", bounds=bounds, constraints=cons)\n",
    "optimized_results"
   ]
  },
  {
   "cell_type": "markdown",
   "id": "59d71817",
   "metadata": {},
   "source": [
    "The optimum weights are the array x and we can retrieve them as follows:"
   ]
  },
  {
   "cell_type": "code",
   "execution_count": 11,
   "id": "f49663b0",
   "metadata": {},
   "outputs": [
    {
     "data": {
      "text/plain": [
       "array([0.05394617, 0.42353328, 0.        , 0.42305411, 0.0994665 ])"
      ]
     },
     "execution_count": 11,
     "metadata": {},
     "output_type": "execute_result"
    }
   ],
   "source": [
    "optimized_results.x"
   ]
  },
  {
   "cell_type": "markdown",
   "id": "4fb18301",
   "metadata": {},
   "source": [
    "We can check that the weights sum up to 1:"
   ]
  },
  {
   "cell_type": "code",
   "execution_count": 12,
   "id": "54e0741d",
   "metadata": {},
   "outputs": [
    {
     "data": {
      "text/plain": [
       "1.0000000594068226"
      ]
     },
     "execution_count": 12,
     "metadata": {},
     "output_type": "execute_result"
    }
   ],
   "source": [
    "# we get 1\n",
    "np.sum(optimized_results.x)"
   ]
  },
  {
   "cell_type": "markdown",
   "id": "97632b71",
   "metadata": {},
   "source": [
    "We can see that the expected return of the portfolio is:"
   ]
  },
  {
   "cell_type": "code",
   "execution_count": 13,
   "id": "dccddab9",
   "metadata": {},
   "outputs": [
    {
     "data": {
      "text/plain": [
       "1.2000007449567138"
      ]
     },
     "execution_count": 13,
     "metadata": {},
     "output_type": "execute_result"
    }
   ],
   "source": [
    "np.sum(returns.mean()*optimized_results.x)"
   ]
  },
  {
   "cell_type": "markdown",
   "id": "3cb9cb73",
   "metadata": {},
   "source": [
    "Which is almost 0.00008044 (some rounding errors) which was our requirement."
   ]
  },
  {
   "cell_type": "code",
   "execution_count": 14,
   "id": "997ba3ce",
   "metadata": {},
   "outputs": [],
   "source": [
    "symbols = ['S&P 500', 'TA', 'CC', 'FFR', 'LF']"
   ]
  },
  {
   "cell_type": "code",
   "execution_count": 15,
   "id": "91b845df",
   "metadata": {},
   "outputs": [
    {
     "data": {
      "text/html": [
       "<div>\n",
       "<style scoped>\n",
       "    .dataframe tbody tr th:only-of-type {\n",
       "        vertical-align: middle;\n",
       "    }\n",
       "\n",
       "    .dataframe tbody tr th {\n",
       "        vertical-align: top;\n",
       "    }\n",
       "\n",
       "    .dataframe thead th {\n",
       "        text-align: right;\n",
       "    }\n",
       "</style>\n",
       "<table border=\"1\" class=\"dataframe\">\n",
       "  <thead>\n",
       "    <tr style=\"text-align: right;\">\n",
       "      <th></th>\n",
       "      <th>Symbol</th>\n",
       "      <th>Weight</th>\n",
       "    </tr>\n",
       "  </thead>\n",
       "  <tbody>\n",
       "    <tr>\n",
       "      <th>0</th>\n",
       "      <td>S&amp;P 500</td>\n",
       "      <td>0.053946</td>\n",
       "    </tr>\n",
       "    <tr>\n",
       "      <th>1</th>\n",
       "      <td>TA</td>\n",
       "      <td>0.423533</td>\n",
       "    </tr>\n",
       "    <tr>\n",
       "      <th>2</th>\n",
       "      <td>CC</td>\n",
       "      <td>0.000000</td>\n",
       "    </tr>\n",
       "    <tr>\n",
       "      <th>3</th>\n",
       "      <td>FFR</td>\n",
       "      <td>0.423054</td>\n",
       "    </tr>\n",
       "    <tr>\n",
       "      <th>4</th>\n",
       "      <td>LF</td>\n",
       "      <td>0.099467</td>\n",
       "    </tr>\n",
       "  </tbody>\n",
       "</table>\n",
       "</div>"
      ],
      "text/plain": [
       "    Symbol    Weight\n",
       "0  S&P 500  0.053946\n",
       "1       TA  0.423533\n",
       "2       CC  0.000000\n",
       "3      FFR  0.423054\n",
       "4       LF  0.099467"
      ]
     },
     "execution_count": 15,
     "metadata": {},
     "output_type": "execute_result"
    }
   ],
   "source": [
    "pd.DataFrame(list(zip(symbols, optimized_results.x)), \n",
    "                       columns=['Symbol', 'Weight'])"
   ]
  },
  {
   "cell_type": "markdown",
   "id": "55925999",
   "metadata": {},
   "source": [
    "From the above results, we can say that Govt should give more focus on TA, FFR, LF, S&P 500 index."
   ]
  },
  {
   "cell_type": "markdown",
   "id": "c608a95d",
   "metadata": {},
   "source": [
    "After that, I can do another model for example, I can run regression analysis or anything on this project if you like it. Moreover, I also can add other variables as well like the yield curve."
   ]
  }
 ],
 "metadata": {
  "kernelspec": {
   "display_name": "Python 3 (ipykernel)",
   "language": "python",
   "name": "python3"
  },
  "language_info": {
   "codemirror_mode": {
    "name": "ipython",
    "version": 3
   },
   "file_extension": ".py",
   "mimetype": "text/x-python",
   "name": "python",
   "nbconvert_exporter": "python",
   "pygments_lexer": "ipython3",
   "version": "3.8.12"
  }
 },
 "nbformat": 4,
 "nbformat_minor": 5
}
