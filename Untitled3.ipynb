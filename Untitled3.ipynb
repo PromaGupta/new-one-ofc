{
 "cells": [
  {
   "cell_type": "code",
   "execution_count": null,
   "id": "fca4d274",
   "metadata": {},
   "outputs": [],
   "source": [
    "#Markov Chains in Stock Market Using Python - Getting Transition Matrix"
   ]
  },
  {
   "cell_type": "code",
   "execution_count": 3,
   "id": "5e43ddc4",
   "metadata": {},
   "outputs": [
    {
     "name": "stdout",
     "output_type": "stream",
     "text": [
      "   Index Name INDEX_NAME HistoricalDate      OPEN      HIGH       LOW  \\\n",
      "0    Nifty 50   NIFTY 50    22 Apr 2022  17242.75  17315.30  17149.20   \n",
      "1    Nifty 50   NIFTY 50    21 Apr 2022  17234.60  17414.70  17215.50   \n",
      "2    Nifty 50   NIFTY 50    20 Apr 2022  17045.25  17186.90  16978.95   \n",
      "3    Nifty 50   NIFTY 50    19 Apr 2022  17258.95  17275.65  16824.70   \n",
      "4    Nifty 50   NIFTY 50    18 Apr 2022  17183.45  17237.75  17067.85   \n",
      "..        ...        ...            ...       ...       ...       ...   \n",
      "60   Nifty 50   NIFTY 50    21 Jan 2022  17613.70  17707.60  17485.85   \n",
      "61   Nifty 50   NIFTY 50    20 Jan 2022  17921.00  17943.70  17648.45   \n",
      "62   Nifty 50   NIFTY 50    19 Jan 2022  18129.20  18129.20  17884.90   \n",
      "63   Nifty 50   NIFTY 50    18 Jan 2022  18337.20  18350.95  18085.90   \n",
      "64   Nifty 50   NIFTY 50    17 Jan 2022  18235.65  18321.55  18228.75   \n",
      "\n",
      "       CLOSE  \n",
      "0   17171.95  \n",
      "1   17392.60  \n",
      "2   17136.55  \n",
      "3   16958.65  \n",
      "4   17173.65  \n",
      "..       ...  \n",
      "60  17617.15  \n",
      "61  17757.00  \n",
      "62  17938.40  \n",
      "63  18113.05  \n",
      "64  18308.10  \n",
      "\n",
      "[65 rows x 7 columns]\n"
     ]
    }
   ],
   "source": [
    "from nsepython import *\n",
    "symbol = \"NIFTY 50\"\n",
    "days = 100\n",
    "end_date = datetime.datetime.now().strftime(\"%d-%b-%Y\")\n",
    "end_date = str(end_date)\n",
    "\n",
    "start_date = (datetime.datetime.now()- datetime.timedelta(days=days)).strftime(\"%d-%b-%Y\")\n",
    "start_date = str(start_date)\n",
    "\n",
    "df=index_history(\"NIFTY 50\",start_date,end_date)\n",
    "print(df)"
   ]
  },
  {
   "cell_type": "markdown",
   "id": "6bd9e802",
   "metadata": {},
   "source": [
    "# The States of a Markov Chain\n",
    "\n",
    "In Markov Chain, NIFTY can have three states – \n",
    "\n",
    "Upside: The price has increased today from yesterday’s price. \n",
    "Downside: the price is decreased today compared to yesterday’s price\n",
    "Consolidation: The price remains unchanged from the previous day.\n",
    "To obtain the states in our data frame, the first task is to calculate the daily return. Then, we shall use a function to identify the possible states according to the return. Now, If We, define the state Consolidation where there is literally 0 movement that day, that’s realistically impossible. \n",
    "\n",
    "So,  we are keeping minimum legroom. If the movement is between a small range then it will be still called a Consolidation state"
   ]
  },
  {
   "cell_type": "code",
   "execution_count": 4,
   "id": "df791d91",
   "metadata": {},
   "outputs": [
    {
     "data": {
      "text/html": [
       "<div>\n",
       "<style scoped>\n",
       "    .dataframe tbody tr th:only-of-type {\n",
       "        vertical-align: middle;\n",
       "    }\n",
       "\n",
       "    .dataframe tbody tr th {\n",
       "        vertical-align: top;\n",
       "    }\n",
       "\n",
       "    .dataframe thead th {\n",
       "        text-align: right;\n",
       "    }\n",
       "</style>\n",
       "<table border=\"1\" class=\"dataframe\">\n",
       "  <thead>\n",
       "    <tr style=\"text-align: right;\">\n",
       "      <th></th>\n",
       "      <th>Index Name</th>\n",
       "      <th>INDEX_NAME</th>\n",
       "      <th>HistoricalDate</th>\n",
       "      <th>OPEN</th>\n",
       "      <th>HIGH</th>\n",
       "      <th>LOW</th>\n",
       "      <th>CLOSE</th>\n",
       "      <th>state</th>\n",
       "    </tr>\n",
       "  </thead>\n",
       "  <tbody>\n",
       "    <tr>\n",
       "      <th>60</th>\n",
       "      <td>Nifty 50</td>\n",
       "      <td>NIFTY 50</td>\n",
       "      <td>21 Jan 2022</td>\n",
       "      <td>17613.70</td>\n",
       "      <td>17707.60</td>\n",
       "      <td>17485.85</td>\n",
       "      <td>17617.15</td>\n",
       "      <td>Upside</td>\n",
       "    </tr>\n",
       "    <tr>\n",
       "      <th>61</th>\n",
       "      <td>Nifty 50</td>\n",
       "      <td>NIFTY 50</td>\n",
       "      <td>20 Jan 2022</td>\n",
       "      <td>17921.00</td>\n",
       "      <td>17943.70</td>\n",
       "      <td>17648.45</td>\n",
       "      <td>17757.00</td>\n",
       "      <td>Upside</td>\n",
       "    </tr>\n",
       "    <tr>\n",
       "      <th>62</th>\n",
       "      <td>Nifty 50</td>\n",
       "      <td>NIFTY 50</td>\n",
       "      <td>19 Jan 2022</td>\n",
       "      <td>18129.20</td>\n",
       "      <td>18129.20</td>\n",
       "      <td>17884.90</td>\n",
       "      <td>17938.40</td>\n",
       "      <td>Upside</td>\n",
       "    </tr>\n",
       "    <tr>\n",
       "      <th>63</th>\n",
       "      <td>Nifty 50</td>\n",
       "      <td>NIFTY 50</td>\n",
       "      <td>18 Jan 2022</td>\n",
       "      <td>18337.20</td>\n",
       "      <td>18350.95</td>\n",
       "      <td>18085.90</td>\n",
       "      <td>18113.05</td>\n",
       "      <td>Upside</td>\n",
       "    </tr>\n",
       "    <tr>\n",
       "      <th>64</th>\n",
       "      <td>Nifty 50</td>\n",
       "      <td>NIFTY 50</td>\n",
       "      <td>17 Jan 2022</td>\n",
       "      <td>18235.65</td>\n",
       "      <td>18321.55</td>\n",
       "      <td>18228.75</td>\n",
       "      <td>18308.10</td>\n",
       "      <td>Upside</td>\n",
       "    </tr>\n",
       "  </tbody>\n",
       "</table>\n",
       "</div>"
      ],
      "text/plain": [
       "   Index Name INDEX_NAME HistoricalDate      OPEN      HIGH       LOW  \\\n",
       "60   Nifty 50   NIFTY 50    21 Jan 2022  17613.70  17707.60  17485.85   \n",
       "61   Nifty 50   NIFTY 50    20 Jan 2022  17921.00  17943.70  17648.45   \n",
       "62   Nifty 50   NIFTY 50    19 Jan 2022  18129.20  18129.20  17884.90   \n",
       "63   Nifty 50   NIFTY 50    18 Jan 2022  18337.20  18350.95  18085.90   \n",
       "64   Nifty 50   NIFTY 50    17 Jan 2022  18235.65  18321.55  18228.75   \n",
       "\n",
       "       CLOSE   state  \n",
       "60  17617.15  Upside  \n",
       "61  17757.00  Upside  \n",
       "62  17938.40  Upside  \n",
       "63  18113.05  Upside  \n",
       "64  18308.10  Upside  "
      ]
     },
     "execution_count": 4,
     "metadata": {},
     "output_type": "execute_result"
    }
   ],
   "source": [
    "df[\"state\"]=df[\"CLOSE\"].astype(float).pct_change()\n",
    "df['state']=df['state'].apply(lambda x: 'Upside' if (x > 0.001) else ('Downside' if (x<=0.001) else 'Consolidation'))\n",
    "df.tail()"
   ]
  },
  {
   "cell_type": "markdown",
   "id": "fc79a6d4",
   "metadata": {},
   "source": [
    "Now, the pct_change() the function of Pandas library is to show the prior day’s price to today’s price. That’s hence Today's State.\n",
    "\n",
    "But, We want to analyze the transitions from Yesterday's State to Today's State.\n",
    "That’s why,  We are adding a new column priorstate that contains the values of Yesterday's State ."
   ]
  },
  {
   "cell_type": "code",
   "execution_count": 5,
   "id": "4d50d0dd",
   "metadata": {},
   "outputs": [
    {
     "data": {
      "text/html": [
       "<div>\n",
       "<style scoped>\n",
       "    .dataframe tbody tr th:only-of-type {\n",
       "        vertical-align: middle;\n",
       "    }\n",
       "\n",
       "    .dataframe tbody tr th {\n",
       "        vertical-align: top;\n",
       "    }\n",
       "\n",
       "    .dataframe thead th {\n",
       "        text-align: right;\n",
       "    }\n",
       "</style>\n",
       "<table border=\"1\" class=\"dataframe\">\n",
       "  <thead>\n",
       "    <tr style=\"text-align: right;\">\n",
       "      <th></th>\n",
       "      <th>Index Name</th>\n",
       "      <th>INDEX_NAME</th>\n",
       "      <th>HistoricalDate</th>\n",
       "      <th>OPEN</th>\n",
       "      <th>HIGH</th>\n",
       "      <th>LOW</th>\n",
       "      <th>CLOSE</th>\n",
       "      <th>state</th>\n",
       "      <th>priorstate</th>\n",
       "    </tr>\n",
       "  </thead>\n",
       "  <tbody>\n",
       "    <tr>\n",
       "      <th>60</th>\n",
       "      <td>Nifty 50</td>\n",
       "      <td>NIFTY 50</td>\n",
       "      <td>21 Jan 2022</td>\n",
       "      <td>17613.70</td>\n",
       "      <td>17707.60</td>\n",
       "      <td>17485.85</td>\n",
       "      <td>17617.15</td>\n",
       "      <td>Upside</td>\n",
       "      <td>Downside</td>\n",
       "    </tr>\n",
       "    <tr>\n",
       "      <th>61</th>\n",
       "      <td>Nifty 50</td>\n",
       "      <td>NIFTY 50</td>\n",
       "      <td>20 Jan 2022</td>\n",
       "      <td>17921.00</td>\n",
       "      <td>17943.70</td>\n",
       "      <td>17648.45</td>\n",
       "      <td>17757.00</td>\n",
       "      <td>Upside</td>\n",
       "      <td>Upside</td>\n",
       "    </tr>\n",
       "    <tr>\n",
       "      <th>62</th>\n",
       "      <td>Nifty 50</td>\n",
       "      <td>NIFTY 50</td>\n",
       "      <td>19 Jan 2022</td>\n",
       "      <td>18129.20</td>\n",
       "      <td>18129.20</td>\n",
       "      <td>17884.90</td>\n",
       "      <td>17938.40</td>\n",
       "      <td>Upside</td>\n",
       "      <td>Upside</td>\n",
       "    </tr>\n",
       "    <tr>\n",
       "      <th>63</th>\n",
       "      <td>Nifty 50</td>\n",
       "      <td>NIFTY 50</td>\n",
       "      <td>18 Jan 2022</td>\n",
       "      <td>18337.20</td>\n",
       "      <td>18350.95</td>\n",
       "      <td>18085.90</td>\n",
       "      <td>18113.05</td>\n",
       "      <td>Upside</td>\n",
       "      <td>Upside</td>\n",
       "    </tr>\n",
       "    <tr>\n",
       "      <th>64</th>\n",
       "      <td>Nifty 50</td>\n",
       "      <td>NIFTY 50</td>\n",
       "      <td>17 Jan 2022</td>\n",
       "      <td>18235.65</td>\n",
       "      <td>18321.55</td>\n",
       "      <td>18228.75</td>\n",
       "      <td>18308.10</td>\n",
       "      <td>Upside</td>\n",
       "      <td>Upside</td>\n",
       "    </tr>\n",
       "  </tbody>\n",
       "</table>\n",
       "</div>"
      ],
      "text/plain": [
       "   Index Name INDEX_NAME HistoricalDate      OPEN      HIGH       LOW  \\\n",
       "60   Nifty 50   NIFTY 50    21 Jan 2022  17613.70  17707.60  17485.85   \n",
       "61   Nifty 50   NIFTY 50    20 Jan 2022  17921.00  17943.70  17648.45   \n",
       "62   Nifty 50   NIFTY 50    19 Jan 2022  18129.20  18129.20  17884.90   \n",
       "63   Nifty 50   NIFTY 50    18 Jan 2022  18337.20  18350.95  18085.90   \n",
       "64   Nifty 50   NIFTY 50    17 Jan 2022  18235.65  18321.55  18228.75   \n",
       "\n",
       "       CLOSE   state priorstate  \n",
       "60  17617.15  Upside   Downside  \n",
       "61  17757.00  Upside     Upside  \n",
       "62  17938.40  Upside     Upside  \n",
       "63  18113.05  Upside     Upside  \n",
       "64  18308.10  Upside     Upside  "
      ]
     },
     "execution_count": 5,
     "metadata": {},
     "output_type": "execute_result"
    }
   ],
   "source": [
    "df['priorstate']=df['state'].shift(1)\n",
    "df.tail()"
   ]
  },
  {
   "cell_type": "markdown",
   "id": "e710932e",
   "metadata": {},
   "source": [
    "## Coding Frequency Distribution Matrix for Markov Chain Model\n",
    "\n",
    "Now that we have the Current State and Prior State, We need to build the Frequency Distribution Matrix. It will be actually easier to explain its definition by showing the outcome of the code –"
   ]
  },
  {
   "cell_type": "code",
   "execution_count": 6,
   "id": "7e410d0c",
   "metadata": {},
   "outputs": [
    {
     "name": "stdout",
     "output_type": "stream",
     "text": [
      "state          Downside  Upside\n",
      "priorstate                     \n",
      "Consolidation       0.0     1.0\n",
      "Downside           15.0    12.0\n",
      "Upside             12.0    24.0\n"
     ]
    }
   ],
   "source": [
    "states = df [['priorstate','state']].dropna()\n",
    "states_matrix = states.groupby(['priorstate','state']).size().unstack().fillna(0)\n",
    "print(states_matrix)"
   ]
  },
  {
   "cell_type": "markdown",
   "id": "80df612d",
   "metadata": {},
   "source": [
    "The above matrix tells that there are 15 times NIFTY was down provided the previous day was also down. Or, There is just 0 time when NIFTY was down when the previous day was in consolidation state. That’s what Frequency Distribution Matrix does!\n",
    "\n",
    "The Frequency Distribution Matrix that shows the frequency or, the occurrence of states based on Prior State."
   ]
  },
  {
   "cell_type": "markdown",
   "id": "63d4c603",
   "metadata": {},
   "source": [
    "Coding Transition Matrix for Markov Chain Model\n",
    "Now, Like We calculated the Frequency Distribution Matrix, We need to calculate the Transition Matrix. While discussing the basics of the Markov Chain, We discussed two points – \n",
    "\n",
    "Each arrow is called a transition from one state to another. \n",
    "The sum of the weights of the outgoing arrows from any state is 1.\n",
    "That’s all the Transition Matrix is all about. Let’s have a look at the output first as it will give us leverage to define it in layman’s term."
   ]
  },
  {
   "cell_type": "code",
   "execution_count": 7,
   "id": "4b442db2",
   "metadata": {},
   "outputs": [
    {
     "name": "stdout",
     "output_type": "stream",
     "text": [
      "state          Downside    Upside\n",
      "priorstate                       \n",
      "Consolidation  0.000000  1.000000\n",
      "Downside       0.555556  0.444444\n",
      "Upside         0.333333  0.666667\n"
     ]
    }
   ],
   "source": [
    "transition_matrix= states_matrix.apply(lambda x: x/float(x.sum()),axis=1)\n",
    "print(transition_matrix)"
   ]
  },
  {
   "cell_type": "markdown",
   "id": "64dd6eba",
   "metadata": {},
   "source": [
    "The Transition Matrix shows the probability of the occurrence instead of the number of occurrences like the Frequency Distribution Matrix. You can also notice the sum of the weights are always 1 from priorstate to state. Like –\n",
    "\n",
    "P(state=\"Downside\"/priorstate=\"Downside\") + P(state=\"Upside\"/priorstate=\"Downside\")\n",
    "= 0.65 + 0.35\n",
    "= 1"
   ]
  },
  {
   "cell_type": "code",
   "execution_count": null,
   "id": "6c05ebe4",
   "metadata": {},
   "outputs": [],
   "source": []
  }
 ],
 "metadata": {
  "kernelspec": {
   "display_name": "Python 3 (ipykernel)",
   "language": "python",
   "name": "python3"
  },
  "language_info": {
   "codemirror_mode": {
    "name": "ipython",
    "version": 3
   },
   "file_extension": ".py",
   "mimetype": "text/x-python",
   "name": "python",
   "nbconvert_exporter": "python",
   "pygments_lexer": "ipython3",
   "version": "3.8.12"
  }
 },
 "nbformat": 4,
 "nbformat_minor": 5
}
